{
 "cells": [
  {
   "cell_type": "code",
   "execution_count": 43,
   "metadata": {},
   "outputs": [
    {
     "name": "stdout",
     "output_type": "stream",
     "text": [
      "Collecting en_core_web_lg==2.1.0 from https://github.com/explosion/spacy-models/releases/download/en_core_web_lg-2.1.0/en_core_web_lg-2.1.0.tar.gz#egg=en_core_web_lg==2.1.0\n",
      "\u001b[?25l  Downloading https://github.com/explosion/spacy-models/releases/download/en_core_web_lg-2.1.0/en_core_web_lg-2.1.0.tar.gz (826.9MB)\n",
      "\u001b[K    100% |████████████████████████████████| 826.9MB 86.9MB/s ta 0:00:01    12% |████                            | 102.7MB 20.0MB/s eta 0:00:37    16% |█████▏                          | 133.5MB 47.6MB/s eta 0:00:15    33% |██████████▊                     | 277.4MB 53.6MB/s eta 0:00:11    42% |█████████████▊                  | 353.2MB 63.9MB/s eta 0:00:08    64% |████████████████████▌           | 530.9MB 65.2MB/s eta 0:00:05    71% |██████████████████████▊         | 587.7MB 18.2MB/s eta 0:00:14    73% |███████████████████████▍        | 604.1MB 38.6MB/s eta 0:00:06    83% |██████████████████████████▋     | 688.7MB 60.1MB/s eta 0:00:03    91% |█████████████████████████████▏  | 754.3MB 36.0MB/s eta 0:00:03    98% |███████████████████████████████▌| 813.6MB 62.1MB/s eta 0:00:01\n",
      "\u001b[?25hInstalling collected packages: en-core-web-lg\n",
      "  Running setup.py install for en-core-web-lg ... \u001b[?25ldone\n",
      "\u001b[?25hSuccessfully installed en-core-web-lg-2.1.0\n",
      "\u001b[38;5;2m✔ Download and installation successful\u001b[0m\n",
      "You can now load the model via spacy.load('en_core_web_lg')\n"
     ]
    }
   ],
   "source": [
    "# # Download \n",
    "\n",
    "# pip install -U spacy\n",
    "\n",
    "# !python -m spacy download en\n",
    "!python -m spacy download \"en_core_web_lg\""
   ]
  },
  {
   "cell_type": "markdown",
   "metadata": {},
   "source": [
    "# Training data structure for Sapcy\n",
    "```\n",
    "dummy_train_data = [\n",
    "    (\"Uber blew through $1 million a week\", [(0, 4, 'ORG')]),\n",
    "    (\"Android Pay expands to Canada\", [(0, 11, 'PRODUCT'), (23, 30, 'GPE')]),\n",
    "    (\"Spotify steps up Asia expansion\", [(0, 8, \"ORG\"), (17, 21, \"LOC\")]),\n",
    "    (\"Google Maps launches location sharing\", [(0, 11, \"PRODUCT\")]),\n",
    "    (\"Google rebrands its business apps\", [(0, 6, \"ORG\")]),\n",
    "    (\"look what i found on google! 😂\", [(21, 27, \"PRODUCT\")])]\n",
    "\n",
    "```"
   ]
  },
  {
   "cell_type": "code",
   "execution_count": 1,
   "metadata": {},
   "outputs": [],
   "source": [
    "import json"
   ]
  },
  {
   "cell_type": "code",
   "execution_count": 2,
   "metadata": {},
   "outputs": [],
   "source": [
    "filename = \"/home/ubuntu/Grakn/Spacy Play/pubmed_result_abstract-annotated.json\""
   ]
  },
  {
   "cell_type": "code",
   "execution_count": 3,
   "metadata": {},
   "outputs": [],
   "source": [
    "with open(filename) as train_data:\n",
    "\ttrain = json.load(train_data)"
   ]
  },
  {
   "cell_type": "code",
   "execution_count": 4,
   "metadata": {},
   "outputs": [
    {
     "data": {
      "text/plain": [
       "{'id': 1,\n",
       " 'text': 'The BRAF inhibitor dabrafenib (Tafinlar(Â®)) and the MEK inhibitor trametinib (Mekinist(Â®)) are indicated, as monotherapy or in combination with each other, for the treatment of patients with unresectable or metastatic melanoma with a BRAF (V600) mutation. This article reviews the therapeutic efficacy and tolerability of combination treatment with dabrafenib and trametinib in this indication and summarizes relevant pharmacological data. Dabrafenib plus trametinib significantly prolonged progression-free survival (PFS) and overall survival (OS), improved objective response rates (ORRs) and preserved health-related quality of life (HR-QOL) to a greater extent than dabrafenib (in the double-blind COMBI-d study) and vemurafenib (in the open-label COMBI-v study) in two large, randomized, phase III studies in treatment-naÃ¯ve patients with unresectable or metastatic melanoma with BRAF (V600E/K) mutation. Limited treatment benefit with the combination was also seen in patients who had progressed on prior BRAF inhibitor therapy, as indicated by ORRs of â‰¤ 15Â\\xa0% and stable disease in â‰¤ 50Â\\xa0% of patients in small phase I and II studies. Combination therapy did not increase overall toxicity relative to dabrafenib or vemurafenib monotherapy, with most adverse events (AEs) mild or moderate in severity and generally manageable. Fewer skin-related AEs (e.g. cutaneous malignancies, hyperkeratinosis and hand-foot syndrome) were reported with combination therapy than with dabrafenib or vemurafenib, probably because of reduced paradoxical activation of the MAPK pathway. Thus, dabrafenib plus trametinib provides an important treatment option for patients with BRAF (V600) mutation-positive unresectable or metastatic melanoma.',\n",
       " 'annotations': [{'label': 1, 'start_offset': 4, 'end_offset': 8, 'user': 1},\n",
       "  {'label': 3, 'start_offset': 19, 'end_offset': 29, 'user': 1},\n",
       "  {'label': 4, 'start_offset': 53, 'end_offset': 56, 'user': 1},\n",
       "  {'label': 3, 'start_offset': 67, 'end_offset': 78, 'user': 1},\n",
       "  {'label': 5, 'start_offset': 220, 'end_offset': 229, 'user': 1},\n",
       "  {'label': 1, 'start_offset': 236, 'end_offset': 241, 'user': 1},\n",
       "  {'label': 6, 'start_offset': 242, 'end_offset': 246, 'user': 1},\n",
       "  {'label': 3, 'start_offset': 351, 'end_offset': 362, 'user': 1},\n",
       "  {'label': 3, 'start_offset': 366, 'end_offset': 377, 'user': 1},\n",
       "  {'label': 3, 'start_offset': 442, 'end_offset': 452, 'user': 1},\n",
       "  {'label': 3, 'start_offset': 458, 'end_offset': 469, 'user': 1},\n",
       "  {'label': 6, 'start_offset': 894, 'end_offset': 901, 'user': 1},\n",
       "  {'label': 5, 'start_offset': 874, 'end_offset': 883, 'user': 1},\n",
       "  {'label': 1, 'start_offset': 888, 'end_offset': 893, 'user': 1},\n",
       "  {'label': 3, 'start_offset': 1215, 'end_offset': 1226, 'user': 1},\n",
       "  {'label': 1, 'start_offset': 1014, 'end_offset': 1019, 'user': 1}],\n",
       " 'meta': {}}"
      ]
     },
     "execution_count": 4,
     "metadata": {},
     "output_type": "execute_result"
    }
   ],
   "source": [
    "train"
   ]
  },
  {
   "cell_type": "code",
   "execution_count": 5,
   "metadata": {},
   "outputs": [
    {
     "data": {
      "text/plain": [
       "dict_keys(['id', 'text', 'annotations', 'meta'])"
      ]
     },
     "execution_count": 5,
     "metadata": {},
     "output_type": "execute_result"
    }
   ],
   "source": [
    "# Train dictionary key\n",
    "train.keys()"
   ]
  },
  {
   "cell_type": "code",
   "execution_count": 6,
   "metadata": {},
   "outputs": [],
   "source": [
    "# Dictionary for label used while annotation\n",
    "\n",
    "\n",
    "label_dic = {'1':'gene','3':'drug','4':'protien','5':'diesease','6':'varient'}"
   ]
  },
  {
   "cell_type": "code",
   "execution_count": 7,
   "metadata": {},
   "outputs": [],
   "source": [
    "# for k,v in label_dic.items():\n",
    "#     print(k,v)"
   ]
  },
  {
   "cell_type": "code",
   "execution_count": 8,
   "metadata": {},
   "outputs": [],
   "source": [
    "# Iterating through all the dictionary of the list of dictionary of annotations\n",
    "for dic in train['annotations']:\n",
    "    # Going to find the label in the dictionary\n",
    "    temp_key = str(dic['label'])\n",
    "    #print(label_dic[temp_key])\n",
    "    dic['label'] = label_dic[temp_key]\n",
    "    "
   ]
  },
  {
   "cell_type": "code",
   "execution_count": 9,
   "metadata": {},
   "outputs": [
    {
     "data": {
      "text/plain": [
       "[{'label': 'gene', 'start_offset': 4, 'end_offset': 8, 'user': 1},\n",
       " {'label': 'drug', 'start_offset': 19, 'end_offset': 29, 'user': 1},\n",
       " {'label': 'protien', 'start_offset': 53, 'end_offset': 56, 'user': 1},\n",
       " {'label': 'drug', 'start_offset': 67, 'end_offset': 78, 'user': 1},\n",
       " {'label': 'diesease', 'start_offset': 220, 'end_offset': 229, 'user': 1},\n",
       " {'label': 'gene', 'start_offset': 236, 'end_offset': 241, 'user': 1},\n",
       " {'label': 'varient', 'start_offset': 242, 'end_offset': 246, 'user': 1},\n",
       " {'label': 'drug', 'start_offset': 351, 'end_offset': 362, 'user': 1},\n",
       " {'label': 'drug', 'start_offset': 366, 'end_offset': 377, 'user': 1},\n",
       " {'label': 'drug', 'start_offset': 442, 'end_offset': 452, 'user': 1},\n",
       " {'label': 'drug', 'start_offset': 458, 'end_offset': 469, 'user': 1},\n",
       " {'label': 'varient', 'start_offset': 894, 'end_offset': 901, 'user': 1},\n",
       " {'label': 'diesease', 'start_offset': 874, 'end_offset': 883, 'user': 1},\n",
       " {'label': 'gene', 'start_offset': 888, 'end_offset': 893, 'user': 1},\n",
       " {'label': 'drug', 'start_offset': 1215, 'end_offset': 1226, 'user': 1},\n",
       " {'label': 'gene', 'start_offset': 1014, 'end_offset': 1019, 'user': 1}]"
      ]
     },
     "execution_count": 9,
     "metadata": {},
     "output_type": "execute_result"
    }
   ],
   "source": [
    "# train data label value has been mapped with the original vlaues\n",
    "train['annotations']"
   ]
  },
  {
   "cell_type": "markdown",
   "metadata": {},
   "source": [
    "### Preparing training data as per Spacy"
   ]
  },
  {
   "cell_type": "code",
   "execution_count": 10,
   "metadata": {},
   "outputs": [],
   "source": [
    "ent_list = []\n",
    "for dic in train['annotations']:\n",
    "    ent_list.append(tuple([dic['start_offset'],dic['end_offset'],dic['label']]))"
   ]
  },
  {
   "cell_type": "code",
   "execution_count": 11,
   "metadata": {},
   "outputs": [
    {
     "data": {
      "text/plain": [
       "[(4, 8, 'gene'),\n",
       " (19, 29, 'drug'),\n",
       " (53, 56, 'protien'),\n",
       " (67, 78, 'drug'),\n",
       " (220, 229, 'diesease'),\n",
       " (236, 241, 'gene'),\n",
       " (242, 246, 'varient'),\n",
       " (351, 362, 'drug'),\n",
       " (366, 377, 'drug'),\n",
       " (442, 452, 'drug'),\n",
       " (458, 469, 'drug'),\n",
       " (894, 901, 'varient'),\n",
       " (874, 883, 'diesease'),\n",
       " (888, 893, 'gene'),\n",
       " (1215, 1226, 'drug'),\n",
       " (1014, 1019, 'gene')]"
      ]
     },
     "execution_count": 11,
     "metadata": {},
     "output_type": "execute_result"
    }
   ],
   "source": [
    "ent_list"
   ]
  },
  {
   "cell_type": "code",
   "execution_count": 12,
   "metadata": {},
   "outputs": [],
   "source": [
    "TRAIN_DATA = [(train['text'],{\"entities\":ent_list})]"
   ]
  },
  {
   "cell_type": "code",
   "execution_count": 13,
   "metadata": {},
   "outputs": [
    {
     "data": {
      "text/plain": [
       "[('The BRAF inhibitor dabrafenib (Tafinlar(Â®)) and the MEK inhibitor trametinib (Mekinist(Â®)) are indicated, as monotherapy or in combination with each other, for the treatment of patients with unresectable or metastatic melanoma with a BRAF (V600) mutation. This article reviews the therapeutic efficacy and tolerability of combination treatment with dabrafenib and trametinib in this indication and summarizes relevant pharmacological data. Dabrafenib plus trametinib significantly prolonged progression-free survival (PFS) and overall survival (OS), improved objective response rates (ORRs) and preserved health-related quality of life (HR-QOL) to a greater extent than dabrafenib (in the double-blind COMBI-d study) and vemurafenib (in the open-label COMBI-v study) in two large, randomized, phase III studies in treatment-naÃ¯ve patients with unresectable or metastatic melanoma with BRAF (V600E/K) mutation. Limited treatment benefit with the combination was also seen in patients who had progressed on prior BRAF inhibitor therapy, as indicated by ORRs of â‰¤ 15Â\\xa0% and stable disease in â‰¤ 50Â\\xa0% of patients in small phase I and II studies. Combination therapy did not increase overall toxicity relative to dabrafenib or vemurafenib monotherapy, with most adverse events (AEs) mild or moderate in severity and generally manageable. Fewer skin-related AEs (e.g. cutaneous malignancies, hyperkeratinosis and hand-foot syndrome) were reported with combination therapy than with dabrafenib or vemurafenib, probably because of reduced paradoxical activation of the MAPK pathway. Thus, dabrafenib plus trametinib provides an important treatment option for patients with BRAF (V600) mutation-positive unresectable or metastatic melanoma.',\n",
       "  {'entities': [(4, 8, 'gene'),\n",
       "    (19, 29, 'drug'),\n",
       "    (53, 56, 'protien'),\n",
       "    (67, 78, 'drug'),\n",
       "    (220, 229, 'diesease'),\n",
       "    (236, 241, 'gene'),\n",
       "    (242, 246, 'varient'),\n",
       "    (351, 362, 'drug'),\n",
       "    (366, 377, 'drug'),\n",
       "    (442, 452, 'drug'),\n",
       "    (458, 469, 'drug'),\n",
       "    (894, 901, 'varient'),\n",
       "    (874, 883, 'diesease'),\n",
       "    (888, 893, 'gene'),\n",
       "    (1215, 1226, 'drug'),\n",
       "    (1014, 1019, 'gene')]})]"
      ]
     },
     "execution_count": 13,
     "metadata": {},
     "output_type": "execute_result"
    }
   ],
   "source": [
    "TRAIN_DATA"
   ]
  },
  {
   "cell_type": "markdown",
   "metadata": {},
   "source": [
    "#  -- Training Model --"
   ]
  },
  {
   "cell_type": "code",
   "execution_count": 14,
   "metadata": {},
   "outputs": [],
   "source": [
    "from __future__ import unicode_literals, print_function\n",
    "\n",
    "import plac\n",
    "import random\n",
    "from pathlib import Path\n",
    "import spacy\n",
    "from spacy.util import minibatch, compounding"
   ]
  },
  {
   "cell_type": "code",
   "execution_count": 15,
   "metadata": {},
   "outputs": [
    {
     "data": {
      "text/plain": [
       "[('The BRAF inhibitor dabrafenib (Tafinlar(Â®)) and the MEK inhibitor trametinib (Mekinist(Â®)) are indicated, as monotherapy or in combination with each other, for the treatment of patients with unresectable or metastatic melanoma with a BRAF (V600) mutation. This article reviews the therapeutic efficacy and tolerability of combination treatment with dabrafenib and trametinib in this indication and summarizes relevant pharmacological data. Dabrafenib plus trametinib significantly prolonged progression-free survival (PFS) and overall survival (OS), improved objective response rates (ORRs) and preserved health-related quality of life (HR-QOL) to a greater extent than dabrafenib (in the double-blind COMBI-d study) and vemurafenib (in the open-label COMBI-v study) in two large, randomized, phase III studies in treatment-naÃ¯ve patients with unresectable or metastatic melanoma with BRAF (V600E/K) mutation. Limited treatment benefit with the combination was also seen in patients who had progressed on prior BRAF inhibitor therapy, as indicated by ORRs of â‰¤ 15Â\\xa0% and stable disease in â‰¤ 50Â\\xa0% of patients in small phase I and II studies. Combination therapy did not increase overall toxicity relative to dabrafenib or vemurafenib monotherapy, with most adverse events (AEs) mild or moderate in severity and generally manageable. Fewer skin-related AEs (e.g. cutaneous malignancies, hyperkeratinosis and hand-foot syndrome) were reported with combination therapy than with dabrafenib or vemurafenib, probably because of reduced paradoxical activation of the MAPK pathway. Thus, dabrafenib plus trametinib provides an important treatment option for patients with BRAF (V600) mutation-positive unresectable or metastatic melanoma.',\n",
       "  {'entities': [(4, 8, 'gene'),\n",
       "    (19, 29, 'drug'),\n",
       "    (53, 56, 'protien'),\n",
       "    (67, 78, 'drug'),\n",
       "    (220, 229, 'diesease'),\n",
       "    (236, 241, 'gene'),\n",
       "    (242, 246, 'varient'),\n",
       "    (351, 362, 'drug'),\n",
       "    (366, 377, 'drug'),\n",
       "    (442, 452, 'drug'),\n",
       "    (458, 469, 'drug'),\n",
       "    (894, 901, 'varient'),\n",
       "    (874, 883, 'diesease'),\n",
       "    (888, 893, 'gene'),\n",
       "    (1215, 1226, 'drug'),\n",
       "    (1014, 1019, 'gene')]})]"
      ]
     },
     "execution_count": 15,
     "metadata": {},
     "output_type": "execute_result"
    }
   ],
   "source": [
    "TRAIN_DATA"
   ]
  },
  {
   "cell_type": "code",
   "execution_count": 35,
   "metadata": {},
   "outputs": [],
   "source": [
    "path_model_custom = \"/home/ubuntu/Grakn/Spacy Play\""
   ]
  },
  {
   "cell_type": "code",
   "execution_count": 36,
   "metadata": {},
   "outputs": [
    {
     "data": {
      "text/plain": [
       "'/home/ubuntu/Grakn/Spacy Play'"
      ]
     },
     "execution_count": 36,
     "metadata": {},
     "output_type": "execute_result"
    }
   ],
   "source": [
    "path_model_custom"
   ]
  },
  {
   "cell_type": "code",
   "execution_count": 17,
   "metadata": {},
   "outputs": [],
   "source": [
    "# @plac.annotations(\n",
    "# model=(\"en\", \"option\", \"m\", str),\n",
    "# output_dir=(\"Optional output directory\", \"option\", \"o\", Path),\n",
    "# n_iter=(\"5\", \"option\", \"n\", int)\n",
    "#     )"
   ]
  },
  {
   "cell_type": "code",
   "execution_count": 18,
   "metadata": {},
   "outputs": [],
   "source": [
    "# @plac.annotations(\n",
    "#     model=(\"Model name. Defaults to blank 'en' model.\", \"option\", \"m\", str),\n",
    "#     new_model_name=(\"New model name for model meta.\", \"option\", \"nm\", str),\n",
    "#     output_dir=(\"Optional output directory\", \"option\", \"o\", Path),\n",
    "#     n_iter=(\"Number of training iterations\", \"option\", \"n\", int),)"
   ]
  },
  {
   "cell_type": "code",
   "execution_count": 19,
   "metadata": {},
   "outputs": [],
   "source": [
    "def main(model=None, output_dir=None, n_iter=100):\n",
    "    \"\"\"Load the model, set up the pipeline and train the entity recognizer.\"\"\"\n",
    "    if model is not None:\n",
    "        nlp = spacy.load(model)  # load existing spaCy model\n",
    "        print(\"Loaded model '%s'\" % model)\n",
    "    else:\n",
    "        nlp = spacy.blank(\"en\")  # create blank Language class\n",
    "        print(\"Created blank 'en' model\")\n",
    "\n",
    "    # create the built-in pipeline components and add them to the pipeline\n",
    "    # nlp.create_pipe works for built-ins that are registered with spaCy\n",
    "    if \"ner\" not in nlp.pipe_names:\n",
    "        ner = nlp.create_pipe(\"ner\")\n",
    "        nlp.add_pipe(ner, last=True)\n",
    "    # otherwise, get it so we can add labels\n",
    "    else:\n",
    "        ner = nlp.get_pipe(\"ner\")\n",
    "\n",
    "    # add labels\n",
    "    for _, annotations in TRAIN_DATA:\n",
    "        for ent in annotations.get(\"entities\"):\n",
    "            ner.add_label(ent[2])\n",
    "\n",
    "    # get names of other pipes to disable them during training\n",
    "    other_pipes = [pipe for pipe in nlp.pipe_names if pipe != \"ner\"]\n",
    "    with nlp.disable_pipes(*other_pipes):  # only train NER\n",
    "        # reset and initialize the weights randomly – but only if we're\n",
    "        # training a new model\n",
    "        if model is None:\n",
    "            nlp.begin_training()\n",
    "        for itn in range(n_iter):\n",
    "            random.shuffle(TRAIN_DATA)\n",
    "            losses = {}\n",
    "            # batch up the examples using spaCy's minibatch\n",
    "            batches = minibatch(TRAIN_DATA, size=compounding(4.0, 32.0, 1.001))\n",
    "            for batch in batches:\n",
    "                texts, annotations = zip(*batch)\n",
    "                nlp.update(\n",
    "                    texts,  # batch of texts\n",
    "                    annotations,  # batch of annotations\n",
    "                    drop=0.5,  # dropout - make it harder to memorise data\n",
    "                    losses=losses,\n",
    "                )\n",
    "            print(\"Losses\", losses)\n",
    "\n",
    "    # test the trained model\n",
    "    for text, _ in TRAIN_DATA:\n",
    "        doc = nlp(text)\n",
    "        print(\"Entities\", [(ent.text, ent.label_) for ent in doc.ents])\n",
    "        print(\"Tokens\", [(t.text, t.ent_type_, t.ent_iob) for t in doc])\n",
    "\n",
    "    # save model to output directory\n",
    "    if output_dir is not None:\n",
    "        output_dir = Path(output_dir)\n",
    "        if not output_dir.exists():\n",
    "            output_dir.mkdir()\n",
    "        nlp.to_disk(output_dir)\n",
    "        print(\"Saved model to\", output_dir)\n",
    "\n",
    "        # test the saved model\n",
    "        print(\"Loading from\", output_dir)\n",
    "        nlp2 = spacy.load(output_dir)\n",
    "        for text, _ in TRAIN_DATA:\n",
    "            doc = nlp2(text)\n",
    "            print(\"Entities\", [(ent.text, ent.label_) for ent in doc.ents])\n",
    "            print(\"Tokens\", [(t.text, t.ent_type_, t.ent_iob) for t in doc])"
   ]
  },
  {
   "cell_type": "code",
   "execution_count": 37,
   "metadata": {},
   "outputs": [
    {
     "name": "stdout",
     "output_type": "stream",
     "text": [
      "Loaded model 'en_core_web_sm'\n",
      "Losses {'ner': 280.382506608963}\n",
      "Losses {'ner': 283.54752653837204}\n",
      "Losses {'ner': 235.85558104515076}\n",
      "Losses {'ner': 284.057657957077}\n",
      "Losses {'ner': 278.9047464132309}\n",
      "Losses {'ner': 306.8049657344818}\n",
      "Losses {'ner': 294.6035690307617}\n",
      "Losses {'ner': 307.09398913383484}\n",
      "Losses {'ner': 313.1555645465851}\n",
      "Losses {'ner': 319.8181028366089}\n",
      "Losses {'ner': 311.4599680900574}\n",
      "Losses {'ner': 309.0003044605255}\n",
      "Losses {'ner': 312.43284273147583}\n",
      "Losses {'ner': 320.7445888519287}\n",
      "Losses {'ner': 313.28304290771484}\n",
      "Losses {'ner': 323.67430782318115}\n",
      "Losses {'ner': 325.35133600234985}\n",
      "Losses {'ner': 320.4116575717926}\n",
      "Losses {'ner': 308.7870615720749}\n",
      "Losses {'ner': 320.3147819042206}\n",
      "Losses {'ner': 320.4395446777344}\n",
      "Losses {'ner': 319.5521581172943}\n",
      "Losses {'ner': 309.81254529953003}\n",
      "Losses {'ner': 328.2730073928833}\n",
      "Losses {'ner': 306.9181685447693}\n",
      "Losses {'ner': 329.9128235578537}\n",
      "Losses {'ner': 305.5503423213959}\n",
      "Losses {'ner': 309.3343644142151}\n",
      "Losses {'ner': 306.9999976158142}\n",
      "Losses {'ner': 314.15928506851196}\n",
      "Losses {'ner': 297.044793844223}\n",
      "Losses {'ner': 313.46373426914215}\n",
      "Losses {'ner': 307.10218346118927}\n",
      "Losses {'ner': 302.9571645259857}\n",
      "Losses {'ner': 296.44527554512024}\n",
      "Losses {'ner': 298.61386412382126}\n",
      "Losses {'ner': 283.17930996418}\n",
      "Losses {'ner': 300.4231686592102}\n",
      "Losses {'ner': 308.53246307373047}\n",
      "Losses {'ner': 306.75693440437317}\n",
      "Losses {'ner': 315.55696845054626}\n",
      "Losses {'ner': 294.2139654159546}\n",
      "Losses {'ner': 306.26038098335266}\n",
      "Losses {'ner': 300.65350246429443}\n",
      "Losses {'ner': 306.54106318950653}\n",
      "Losses {'ner': 308.47462606430054}\n",
      "Losses {'ner': 327.17047214508057}\n",
      "Losses {'ner': 307.79166692495346}\n",
      "Losses {'ner': 306.7725419998169}\n",
      "Losses {'ner': 285.815083026886}\n",
      "Losses {'ner': 305.07132625579834}\n",
      "Losses {'ner': 310.07357811927795}\n",
      "Losses {'ner': 298.78483015298843}\n",
      "Losses {'ner': 320.2779531478882}\n",
      "Losses {'ner': 309.9580590724945}\n",
      "Losses {'ner': 292.53285789489746}\n",
      "Losses {'ner': 303.0994505882263}\n",
      "Losses {'ner': 302.9975666999817}\n",
      "Losses {'ner': 299.88316106796265}\n",
      "Losses {'ner': 293.3808135986328}\n",
      "Losses {'ner': 291.1116805076599}\n",
      "Losses {'ner': 294.7891572713852}\n",
      "Losses {'ner': 284.12861585617065}\n",
      "Losses {'ner': 292.6545000076294}\n",
      "Losses {'ner': 300.0126497745514}\n",
      "Losses {'ner': 312.2320672273636}\n",
      "Losses {'ner': 301.4372224807739}\n",
      "Losses {'ner': 300.5785303711891}\n",
      "Losses {'ner': 285.8747968673706}\n",
      "Losses {'ner': 287.1964933872223}\n",
      "Losses {'ner': 287.70113468170166}\n",
      "Losses {'ner': 296.66049671173096}\n",
      "Losses {'ner': 288.9043562412262}\n",
      "Losses {'ner': 264.56373596191406}\n",
      "Losses {'ner': 280.08666825294495}\n",
      "Losses {'ner': 294.6743278503418}\n",
      "Losses {'ner': 283.6820965409279}\n",
      "Losses {'ner': 284.8913341164589}\n",
      "Losses {'ner': 289.2165214419365}\n",
      "Losses {'ner': 292.7719524502754}\n",
      "Losses {'ner': 290.4327467083931}\n",
      "Losses {'ner': 312.4108097553253}\n",
      "Losses {'ner': 284.00448989868164}\n",
      "Losses {'ner': 290.66679096221924}\n",
      "Losses {'ner': 284.1856608390808}\n",
      "Losses {'ner': 289.4006061553955}\n",
      "Losses {'ner': 306.23365545272827}\n",
      "Losses {'ner': 284.6008675098419}\n",
      "Losses {'ner': 272.74281191825867}\n",
      "Losses {'ner': 291.02623462677}\n",
      "Losses {'ner': 283.3595132827759}\n",
      "Losses {'ner': 292.4032553434372}\n",
      "Losses {'ner': 282.2586359977722}\n",
      "Losses {'ner': 289.9467966556549}\n",
      "Losses {'ner': 292.1390801668167}\n",
      "Losses {'ner': 289.49651861190796}\n",
      "Losses {'ner': 287.80798864364624}\n",
      "Losses {'ner': 313.06263303756714}\n",
      "Losses {'ner': 286.2410235404968}\n",
      "Losses {'ner': 299.8057391047478}\n",
      "Entities [('The', 'gene'), ('% and', 'varient'), ('.', 'varient')]\n",
      "Tokens [('The', 'gene', 3), ('BRAF', '', 2), ('inhibitor', '', 2), ('dabrafenib', '', 2), ('(', '', 2), ('Tafinlar(Â', '', 2), ('®', '', 2), (')', '', 2), (')', '', 2), ('and', '', 2), ('the', '', 2), ('MEK', '', 2), ('inhibitor', '', 2), ('trametinib', '', 2), ('(', '', 2), ('Mekinist(Â', '', 2), ('®', '', 2), (')', '', 2), (')', '', 2), ('are', '', 2), ('indicated', '', 2), (',', '', 2), ('as', '', 2), ('monotherapy', '', 2), ('or', '', 2), ('in', '', 2), ('combination', '', 2), ('with', '', 2), ('each', '', 2), ('other', '', 2), (',', '', 2), ('for', '', 2), ('the', '', 2), ('treatment', '', 2), ('of', '', 2), ('patients', '', 2), ('with', '', 2), ('unresectable', '', 2), ('or', '', 2), ('metastatic', '', 2), ('melanoma', '', 2), ('with', '', 2), ('a', '', 2), ('BRAF', '', 2), ('(', '', 2), ('V600', '', 2), (')', '', 2), ('mutation', '', 2), ('.', '', 2), ('This', '', 2), ('article', '', 2), ('reviews', '', 2), ('the', '', 2), ('therapeutic', '', 2), ('efficacy', '', 2), ('and', '', 2), ('tolerability', '', 2), ('of', '', 2), ('combination', '', 2), ('treatment', '', 2), ('with', '', 2), ('dabrafenib', '', 2), ('and', '', 2), ('trametinib', '', 2), ('in', '', 2), ('this', '', 2), ('indication', '', 2), ('and', '', 2), ('summarizes', '', 2), ('relevant', '', 2), ('pharmacological', '', 2), ('data', '', 2), ('.', '', 2), ('Dabrafenib', '', 2), ('plus', '', 2), ('trametinib', '', 2), ('significantly', '', 2), ('prolonged', '', 2), ('progression', '', 2), ('-', '', 2), ('free', '', 2), ('survival', '', 2), ('(', '', 2), ('PFS', '', 2), (')', '', 2), ('and', '', 2), ('overall', '', 2), ('survival', '', 2), ('(', '', 2), ('OS', '', 2), (')', '', 2), (',', '', 2), ('improved', '', 2), ('objective', '', 2), ('response', '', 2), ('rates', '', 2), ('(', '', 2), ('ORRs', '', 2), (')', '', 2), ('and', '', 2), ('preserved', '', 2), ('health', '', 2), ('-', '', 2), ('related', '', 2), ('quality', '', 2), ('of', '', 2), ('life', '', 2), ('(', '', 2), ('HR', '', 2), ('-', '', 2), ('QOL', '', 2), (')', '', 2), ('to', '', 2), ('a', '', 2), ('greater', '', 2), ('extent', '', 2), ('than', '', 2), ('dabrafenib', '', 2), ('(', '', 2), ('in', '', 2), ('the', '', 2), ('double', '', 2), ('-', '', 2), ('blind', '', 2), ('COMBI', '', 2), ('-', '', 2), ('d', '', 2), ('study', '', 2), (')', '', 2), ('and', '', 2), ('vemurafenib', '', 2), ('(', '', 2), ('in', '', 2), ('the', '', 2), ('open', '', 2), ('-', '', 2), ('label', '', 2), ('COMBI', '', 2), ('-', '', 2), ('v', '', 2), ('study', '', 2), (')', '', 2), ('in', '', 2), ('two', '', 2), ('large', '', 2), (',', '', 2), ('randomized', '', 2), (',', '', 2), ('phase', '', 2), ('III', '', 2), ('studies', '', 2), ('in', '', 2), ('treatment', '', 2), ('-', '', 2), ('naÃ¯ve', '', 2), ('patients', '', 2), ('with', '', 2), ('unresectable', '', 2), ('or', '', 2), ('metastatic', '', 2), ('melanoma', '', 2), ('with', '', 2), ('BRAF', '', 2), ('(', '', 2), ('V600E', '', 2), ('/', '', 2), ('K', '', 2), (')', '', 2), ('mutation', '', 2), ('.', '', 2), ('Limited', '', 2), ('treatment', '', 2), ('benefit', '', 2), ('with', '', 2), ('the', '', 2), ('combination', '', 2), ('was', '', 2), ('also', '', 2), ('seen', '', 2), ('in', '', 2), ('patients', '', 2), ('who', '', 2), ('had', '', 2), ('progressed', '', 2), ('on', '', 2), ('prior', '', 2), ('BRAF', '', 2), ('inhibitor', '', 2), ('therapy', '', 2), (',', '', 2), ('as', '', 2), ('indicated', '', 2), ('by', '', 2), ('ORRs', '', 2), ('of', '', 2), ('â‰¤', '', 2), ('15Â', '', 2), ('\\xa0', '', 2), ('%', 'varient', 3), ('and', 'varient', 1), ('stable', '', 2), ('disease', '', 2), ('in', '', 2), ('â‰¤', '', 2), ('50Â', '', 2), ('\\xa0', '', 2), ('%', '', 2), ('of', '', 2), ('patients', '', 2), ('in', '', 2), ('small', '', 2), ('phase', '', 2), ('I', '', 2), ('and', '', 2), ('II', '', 2), ('studies', '', 2), ('.', '', 2), ('Combination', '', 2), ('therapy', '', 2), ('did', '', 2), ('not', '', 2), ('increase', '', 2), ('overall', '', 2), ('toxicity', '', 2), ('relative', '', 2), ('to', '', 2), ('dabrafenib', '', 2), ('or', '', 2), ('vemurafenib', '', 2), ('monotherapy', '', 2), (',', '', 2), ('with', '', 2), ('most', '', 2), ('adverse', '', 2), ('events', '', 2), ('(', '', 2), ('AEs', '', 2), (')', '', 2), ('mild', '', 2), ('or', '', 2), ('moderate', '', 2), ('in', '', 2), ('severity', '', 2), ('and', '', 2), ('generally', '', 2), ('manageable', '', 2), ('.', '', 2), ('Fewer', '', 2), ('skin', '', 2), ('-', '', 2), ('related', '', 2), ('AEs', '', 2), ('(', '', 2), ('e.g.', '', 2), ('cutaneous', '', 2), ('malignancies', '', 2), (',', '', 2), ('hyperkeratinosis', '', 2), ('and', '', 2), ('hand', '', 2), ('-', '', 2), ('foot', '', 2), ('syndrome', '', 2), (')', '', 2), ('were', '', 2), ('reported', '', 2), ('with', '', 2), ('combination', '', 2), ('therapy', '', 2), ('than', '', 2), ('with', '', 2), ('dabrafenib', '', 2), ('or', '', 2), ('vemurafenib', '', 2), (',', '', 2), ('probably', '', 2), ('because', '', 2), ('of', '', 2), ('reduced', '', 2), ('paradoxical', '', 2), ('activation', '', 2), ('of', '', 2), ('the', '', 2), ('MAPK', '', 2), ('pathway', '', 2), ('.', '', 2), ('Thus', '', 2), (',', '', 2), ('dabrafenib', '', 2), ('plus', '', 2), ('trametinib', '', 2), ('provides', '', 2), ('an', '', 2), ('important', '', 2), ('treatment', '', 2), ('option', '', 2), ('for', '', 2), ('patients', '', 2), ('with', '', 2), ('BRAF', '', 2), ('(', '', 2), ('V600', '', 2), (')', '', 2), ('mutation', '', 2), ('-', '', 2), ('positive', '', 2), ('unresectable', '', 2), ('or', '', 2), ('metastatic', '', 2), ('melanoma', '', 2), ('.', 'varient', 3)]\n",
      "Saved model to /home/ubuntu/Grakn/Spacy Play\n",
      "Loading from /home/ubuntu/Grakn/Spacy Play\n"
     ]
    },
    {
     "name": "stdout",
     "output_type": "stream",
     "text": [
      "Entities [('The', 'gene'), ('% and', 'varient'), ('.', 'varient')]\n",
      "Tokens [('The', 'gene', 3), ('BRAF', '', 2), ('inhibitor', '', 2), ('dabrafenib', '', 2), ('(', '', 2), ('Tafinlar(Â', '', 2), ('®', '', 2), (')', '', 2), (')', '', 2), ('and', '', 2), ('the', '', 2), ('MEK', '', 2), ('inhibitor', '', 2), ('trametinib', '', 2), ('(', '', 2), ('Mekinist(Â', '', 2), ('®', '', 2), (')', '', 2), (')', '', 2), ('are', '', 2), ('indicated', '', 2), (',', '', 2), ('as', '', 2), ('monotherapy', '', 2), ('or', '', 2), ('in', '', 2), ('combination', '', 2), ('with', '', 2), ('each', '', 2), ('other', '', 2), (',', '', 2), ('for', '', 2), ('the', '', 2), ('treatment', '', 2), ('of', '', 2), ('patients', '', 2), ('with', '', 2), ('unresectable', '', 2), ('or', '', 2), ('metastatic', '', 2), ('melanoma', '', 2), ('with', '', 2), ('a', '', 2), ('BRAF', '', 2), ('(', '', 2), ('V600', '', 2), (')', '', 2), ('mutation', '', 2), ('.', '', 2), ('This', '', 2), ('article', '', 2), ('reviews', '', 2), ('the', '', 2), ('therapeutic', '', 2), ('efficacy', '', 2), ('and', '', 2), ('tolerability', '', 2), ('of', '', 2), ('combination', '', 2), ('treatment', '', 2), ('with', '', 2), ('dabrafenib', '', 2), ('and', '', 2), ('trametinib', '', 2), ('in', '', 2), ('this', '', 2), ('indication', '', 2), ('and', '', 2), ('summarizes', '', 2), ('relevant', '', 2), ('pharmacological', '', 2), ('data', '', 2), ('.', '', 2), ('Dabrafenib', '', 2), ('plus', '', 2), ('trametinib', '', 2), ('significantly', '', 2), ('prolonged', '', 2), ('progression', '', 2), ('-', '', 2), ('free', '', 2), ('survival', '', 2), ('(', '', 2), ('PFS', '', 2), (')', '', 2), ('and', '', 2), ('overall', '', 2), ('survival', '', 2), ('(', '', 2), ('OS', '', 2), (')', '', 2), (',', '', 2), ('improved', '', 2), ('objective', '', 2), ('response', '', 2), ('rates', '', 2), ('(', '', 2), ('ORRs', '', 2), (')', '', 2), ('and', '', 2), ('preserved', '', 2), ('health', '', 2), ('-', '', 2), ('related', '', 2), ('quality', '', 2), ('of', '', 2), ('life', '', 2), ('(', '', 2), ('HR', '', 2), ('-', '', 2), ('QOL', '', 2), (')', '', 2), ('to', '', 2), ('a', '', 2), ('greater', '', 2), ('extent', '', 2), ('than', '', 2), ('dabrafenib', '', 2), ('(', '', 2), ('in', '', 2), ('the', '', 2), ('double', '', 2), ('-', '', 2), ('blind', '', 2), ('COMBI', '', 2), ('-', '', 2), ('d', '', 2), ('study', '', 2), (')', '', 2), ('and', '', 2), ('vemurafenib', '', 2), ('(', '', 2), ('in', '', 2), ('the', '', 2), ('open', '', 2), ('-', '', 2), ('label', '', 2), ('COMBI', '', 2), ('-', '', 2), ('v', '', 2), ('study', '', 2), (')', '', 2), ('in', '', 2), ('two', '', 2), ('large', '', 2), (',', '', 2), ('randomized', '', 2), (',', '', 2), ('phase', '', 2), ('III', '', 2), ('studies', '', 2), ('in', '', 2), ('treatment', '', 2), ('-', '', 2), ('naÃ¯ve', '', 2), ('patients', '', 2), ('with', '', 2), ('unresectable', '', 2), ('or', '', 2), ('metastatic', '', 2), ('melanoma', '', 2), ('with', '', 2), ('BRAF', '', 2), ('(', '', 2), ('V600E', '', 2), ('/', '', 2), ('K', '', 2), (')', '', 2), ('mutation', '', 2), ('.', '', 2), ('Limited', '', 2), ('treatment', '', 2), ('benefit', '', 2), ('with', '', 2), ('the', '', 2), ('combination', '', 2), ('was', '', 2), ('also', '', 2), ('seen', '', 2), ('in', '', 2), ('patients', '', 2), ('who', '', 2), ('had', '', 2), ('progressed', '', 2), ('on', '', 2), ('prior', '', 2), ('BRAF', '', 2), ('inhibitor', '', 2), ('therapy', '', 2), (',', '', 2), ('as', '', 2), ('indicated', '', 2), ('by', '', 2), ('ORRs', '', 2), ('of', '', 2), ('â‰¤', '', 2), ('15Â', '', 2), ('\\xa0', '', 2), ('%', 'varient', 3), ('and', 'varient', 1), ('stable', '', 2), ('disease', '', 2), ('in', '', 2), ('â‰¤', '', 2), ('50Â', '', 2), ('\\xa0', '', 2), ('%', '', 2), ('of', '', 2), ('patients', '', 2), ('in', '', 2), ('small', '', 2), ('phase', '', 2), ('I', '', 2), ('and', '', 2), ('II', '', 2), ('studies', '', 2), ('.', '', 2), ('Combination', '', 2), ('therapy', '', 2), ('did', '', 2), ('not', '', 2), ('increase', '', 2), ('overall', '', 2), ('toxicity', '', 2), ('relative', '', 2), ('to', '', 2), ('dabrafenib', '', 2), ('or', '', 2), ('vemurafenib', '', 2), ('monotherapy', '', 2), (',', '', 2), ('with', '', 2), ('most', '', 2), ('adverse', '', 2), ('events', '', 2), ('(', '', 2), ('AEs', '', 2), (')', '', 2), ('mild', '', 2), ('or', '', 2), ('moderate', '', 2), ('in', '', 2), ('severity', '', 2), ('and', '', 2), ('generally', '', 2), ('manageable', '', 2), ('.', '', 2), ('Fewer', '', 2), ('skin', '', 2), ('-', '', 2), ('related', '', 2), ('AEs', '', 2), ('(', '', 2), ('e.g.', '', 2), ('cutaneous', '', 2), ('malignancies', '', 2), (',', '', 2), ('hyperkeratinosis', '', 2), ('and', '', 2), ('hand', '', 2), ('-', '', 2), ('foot', '', 2), ('syndrome', '', 2), (')', '', 2), ('were', '', 2), ('reported', '', 2), ('with', '', 2), ('combination', '', 2), ('therapy', '', 2), ('than', '', 2), ('with', '', 2), ('dabrafenib', '', 2), ('or', '', 2), ('vemurafenib', '', 2), (',', '', 2), ('probably', '', 2), ('because', '', 2), ('of', '', 2), ('reduced', '', 2), ('paradoxical', '', 2), ('activation', '', 2), ('of', '', 2), ('the', '', 2), ('MAPK', '', 2), ('pathway', '', 2), ('.', '', 2), ('Thus', '', 2), (',', '', 2), ('dabrafenib', '', 2), ('plus', '', 2), ('trametinib', '', 2), ('provides', '', 2), ('an', '', 2), ('important', '', 2), ('treatment', '', 2), ('option', '', 2), ('for', '', 2), ('patients', '', 2), ('with', '', 2), ('BRAF', '', 2), ('(', '', 2), ('V600', '', 2), (')', '', 2), ('mutation', '', 2), ('-', '', 2), ('positive', '', 2), ('unresectable', '', 2), ('or', '', 2), ('metastatic', '', 2), ('melanoma', '', 2), ('.', 'varient', 3)]\n"
     ]
    }
   ],
   "source": [
    "if __name__ == \"__main__\":\n",
    "    main(model = \"en_core_web_sm\",output_dir= path_model_custom)"
   ]
  },
  {
   "cell_type": "markdown",
   "metadata": {},
   "source": [
    "# NER "
   ]
  },
  {
   "cell_type": "code",
   "execution_count": 32,
   "metadata": {},
   "outputs": [],
   "source": [
    "test_doc = 'The BRAF inhibitor dabrafenib (Tafinlar(Â®)) and the MEK inhibitor trametinib (Mekinist(Â®)) are indicated, as monotherapy or in combination with each other, for the treatment of patients with unresectable or metastatic melanoma with a BRAF (V600) mutation. This article reviews the therapeutic efficacy and tolerability of combination treatment with dabrafenib and trametinib in this indication and summarizes relevant pharmacological data. Dabrafenib plus trametinib significantly prolonged progression-free survival (PFS) and overall survival (OS), improved objective response rates (ORRs) and preserved health-related quality of life (HR-QOL) to a greater extent than dabrafenib (in the double-blind COMBI-d study) and vemurafenib (in the open-label COMBI-v study) in two large, randomized, phase III studies in treatment-naÃ¯ve patients with unresectable or metastatic melanoma with BRAF (V600E/K) mutation. Limited treatment benefit with the combination was also seen in patients who had progressed on prior BRAF inhibitor therapy, as indicated by ORRs of â‰¤ 15Â\\xa0% and stable disease in â‰¤ 50Â\\xa0% of patients in small phase I and II studies. Combination therapy did not increase overall toxicity relative to dabrafenib or vemurafenib monotherapy, with most adverse events (AEs) mild or moderate in severity and generally manageable. Fewer skin-related AEs (e.g. cutaneous malignancies, hyperkeratinosis and hand-foot syndrome) were reported with combination therapy than with dabrafenib or vemurafenib, probably because of reduced paradoxical activation of the MAPK pathway. Thus, dabrafenib plus trametinib provides an important treatment option for patients with BRAF (V600) mutation-positive unresectable or metastatic melanoma.'"
   ]
  },
  {
   "cell_type": "code",
   "execution_count": 42,
   "metadata": {},
   "outputs": [
    {
     "name": "stdout",
     "output_type": "stream",
     "text": [
      "The --> gene\n",
      "% and --> varient\n",
      ". --> varient\n"
     ]
    }
   ],
   "source": [
    "#nlp = spacy.load(\"en_core_web_sm\")\n",
    "#doc = nlp(u\"Apple is looking at buying U.K. startup for $1 billion\")\n",
    "\n",
    "nlp = spacy.load(\"/home/ubuntu/Grakn/Spacy Play\")\n",
    "doc1 = nlp(test_doc)\n",
    "\n",
    "\n",
    "\n",
    "# for ent in doc.ents:\n",
    "#     print(ent.text, ent.start_char, ent.end_char, ent.label_)\n",
    "\n",
    "for ent in doc1.ents:\n",
    "    print(ent.text,\"-->\",ent.label_)"
   ]
  },
  {
   "cell_type": "code",
   "execution_count": null,
   "metadata": {},
   "outputs": [],
   "source": []
  },
  {
   "cell_type": "code",
   "execution_count": null,
   "metadata": {},
   "outputs": [],
   "source": []
  }
 ],
 "metadata": {
  "kernelspec": {
   "display_name": "Python 3",
   "language": "python",
   "name": "python3"
  },
  "language_info": {
   "codemirror_mode": {
    "name": "ipython",
    "version": 3
   },
   "file_extension": ".py",
   "mimetype": "text/x-python",
   "name": "python",
   "nbconvert_exporter": "python",
   "pygments_lexer": "ipython3",
   "version": "3.6.8"
  }
 },
 "nbformat": 4,
 "nbformat_minor": 2
}
