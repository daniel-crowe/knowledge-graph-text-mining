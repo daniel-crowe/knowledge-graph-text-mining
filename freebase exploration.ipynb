{
 "cells": [
  {
   "cell_type": "code",
   "execution_count": null,
   "metadata": {},
   "outputs": [],
   "source": [
    "import json"
   ]
  },
  {
   "cell_type": "code",
   "execution_count": 16,
   "metadata": {},
   "outputs": [],
   "source": [
    "file = open(\"/home/ubuntu/BAMQA/data/WebQ/train_vec.json\", \"r\")"
   ]
  },
  {
   "cell_type": "code",
   "execution_count": 18,
   "metadata": {},
   "outputs": [
    {
     "name": "stdout",
     "output_type": "stream",
     "text": [
      " 85859, 73690], [95374, 88751, 15002, 12485], [95374, 2296, 59419, 73690, 58123, 67565], [17409, 15002, 31295, 21640], [95374, 65324, 82119, 15002, 16672], [881, 88751, 85859, 25243, 66178, 86923, 73690], [95374, 67565, 89228, 51037, 73690], [95374, 651, 24429, 82119, 75048, 15002, 26492], [95374, 74036, 59419, 15002, 40570, 59378], [95374, 35135, 15002, 92634, 67565, 85859, 24039], [95374, 82119, 85859, 28010, 15589, 45999, 67565], [57288, 49526, 82119, 15002, 86478, 25932, 14750], [17409, 11892, 82119, 56537, 15002], [881, 34496, 15002, 61779, 74025], [95374, 34496, 15002, 56647, 65386, 67565, 45615], [60792, 62694, 85859, 12630, 18970, 43178, 42219, 20515], [95374, 62694, 85859, 34561, 75795, 59378, 73690], [95374, 88512, 82119, 15002, 88291, 59378], [95374, 45049, 21680, 85859, 35417, 40570], [95374, 88751, 37226, 15002, 7580, 14424], [95374, 88751, 15002, 3621, 87044], [95374, 36702, 34496, 15002], [95374, 88751, 28010, 43178], [95374, 88751, 85859, 95522, 86923, 85859, 21640, 15002, 35433], [95374, 82119, 15002, 21680, 14424, 43178, 100113], [95374, 2455, 88751, 73690, 57392, 59378], [60792, 82119, 15002, 45219, 86453], [95374, 88751, 68806, 67565, 21680, 59378, 73690, 74887], [95374, 97253, 82119, 15002, 26599, 48913], [60792, 21680, 85859, 35417, 40570, 74525, 68193], [95374, 35135, 82119, 15002, 13568, 14424, 75048], [881, 34496, 27849, 15002, 61779, 63205, 9195], [95374, 74036, 82119, 15002, 71467, 85056, 75480, 14424], [95374, 88751, 85859, 21640, 36777, 15002, 40422, 59378], [95374, 34479, 86923, 2930, 59419, 15002, 20176], [60792, 67565, 51367, 29675, 59378, 73690], [95374, 62694, 85859, 36259, 86923, 35417, 19155], [881, 88751, 59378, 85859, 95308, 15002], [95374, 79191, 88751, 73690, 81084], [881, 59419, 15002, 40570, 59378, 67410], [95374, 99394, 86923, 96042, 82119, 15002, 40570], [84144, 88751, 87044, 59378, 73690], [95374, 79191, 88751, 73690, 48684], [95374, 39326, 82119, 15002, 40570, 18970, 54820], [60792, 59419, 15002, 88291], [95374, 34200, 86923, 55957, 34496, 1406, 59378, 73690], [881, 34496, 15002, 61779, 21640, 212], [95374, 20813, 82119, 15002, 26492], [60792, 67565, 24282, 59378, 73690], [95374, 24429, 82119, 15002, 26492], [60792, 67565, 26599, 26451, 59378, 73690, 93233], [95374, 57996, 86173, 57121, 26512, 59378, 73690], [84144, 82119, 85859, 35417, 71467, 43178, 45956], [95374, 34496, 15002, 61779, 34561, 11233], [60792, 88751, 15002, 67511], [95374, 42136, 21680, 85859, 18327, 59378, 73690], [60792, 88751, 35417], [60792, 82119, 15002, 24282, 67565, 6949], [95374, 100316, 59419, 85859, 73690, 81367, 76859], [881, 15002, 12515, 67565], [95374, 88751, 15002, 68611, 14424], [95374, 60600, 86923, 62281, 14952, 26512, 87208, 67565, 73690], [881, 88751, 15002, 70965, 11892], [60792, 21680, 85859, 35417, 40570], [60792, 88751, 15002, 36377], [95374, 2499, 60270, 85859, 35417, 34367, 85859, 61673], [95374, 97233, 10337, 15002, 34367], [881, 62694, 85859, 87044, 36906, 59038, 73690], [95374, 88751, 85859, 29490, 24818, 67565, 87208, 67565, 73690, 87044], [95374, 62694, 85859, 33446, 59378, 85859, 73690], [95374, 18861, 59419, 85859, 35417, 60270], [60792, 82119, 15002, 31295], [95374, 67565, 21680, 59378, 73690, 34498, 69925], [95374, 88751, 85859, 8092, 42136, 86923, 73690], [95374, 88512, 14178, 90905, 34496, 85859, 35417, 43066], [95374, 61779, 85859, 12205, 45049, 86923, 73690], [95374, 82119, 15002, 40570, 59378], [95374, 33446, 82119, 27849, 15002, 87480, 29442], [60792, 82119, 87235, 15002, 24282, 67565, 24429], [95374, 18904, 59419, 15002, 40570, 14424], [95374, 651, 24429, 82119, 15002, 24282, 67565], [95374, 88751, 85859, 42219, 61779, 8390, 25592, 59378, 73690, 9195], [60792, 59419, 35417, 85374, 67565], [60792, 82119, 15002, 7677, 48913], [60792, 67565, 65442, 51037, 73690], [881, 59419, 15002, 60270, 43178, 78526, 45768], [95374, 35135, 82119, 15002, 54497, 56537], [881, 10337, 52272, 26451, 67565, 15002], [60792, 21680, 35417, 40570], [60792, 59419, 85859, 35417, 26599, 21449, 19558], [881, 59419, 15002, 40570, 14424], [95374, 88751, 85859, 92616, 42136, 59378, 73690], [95374, 62694, 85859, 100691, 93731, 86923, 73690], [95374, 26575, 82119, 15002, 21680], [95374, 48939, 59419, 85859, 28010, 10944, 63086], [881, 82119, 15002, 26451], [60792, 82119, 15002, 24282, 67565, 20813], [95374, 82119, 15002, 45219, 77741, 76378], [95374, 24429, 82119, 15002, 24282, 67565], [95374, 78278, 82119, 15002, 53854], [95374, 82119, 15002, 26599, 29150, 14424], [95374, 82119, 66177, 15002, 21680], [95374, 34496, 15002, 61779, 28812], [881, 76978, 71467, 85859, 87044, 35417, 23168, 76460], [95374, 88751, 15002, 7580, 14424], [881, 82119, 35417, 98132, 52141], [95374, 88751, 85859, 62281, 86923, 73690, 9195], [60792, 62694, 35417, 34629, 48424], [881, 34496, 99787, 75048, 86923, 85859, 73690], [95374, 75795, 59419, 35417, 85374, 67565], [95374, 24818, 59419, 73690, 92783], [95374, 51000, 59\n"
     ]
    }
   ],
   "source": [
    "print(file.readline(4900))"
   ]
  },
  {
   "cell_type": "code",
   "execution_count": 5,
   "metadata": {},
   "outputs": [],
   "source": [
    "file.close()"
   ]
  },
  {
   "cell_type": "code",
   "execution_count": 7,
   "metadata": {},
   "outputs": [
    {
     "name": "stdout",
     "output_type": "stream",
     "text": [
      "['{\"answers\": [\"Jamaican Creole English Language\", \"Jamaican English\"], \"entities\": [[\"jamaican\", \"MISC\"], [\"jamaican people\", \"NP\"]], \"qText\": \"what does jamaican people speak?\", \"qId\": \"wqs000000\", \"freebaseKey\": \"jamaica\", \"freebaseKeyCands\": [\"jamaica\", \"jamaican_american\"], \"dep_path\": []}\\n', '{\"answers\": [\"Lawyer\"], \"entities\": [[\"james k polk\", \"PERSON\"], [\"james k polk\", \"NP\"], [\"he\", \"NP\"], [\"president\", \"NP\"]], \"qText\": \"what did james k polk do before he was president?\", \"qId\": \"wqs000001\", \"freebaseKey\": \"james_k_polk\", \"freebaseKeyCands\": [\"james_k_polk\", \"uss_james_k_polk\"], \"dep_path\": []}\\n', '{\"answers\": [\"University of Oregon\"], \"entities\": [[\"2012\", \"DATE\"], [\"oregon ducks\", \"ORGANIZATION\"], [\"the oregon ducks 2012 football schedule\", \"NP\"], [\"the oregon ducks\", \"NP\"], [\"2012 football schedule\", \"NP\"]], \"qText\": \"what is the oregon ducks 2012 football schedule?\", \"qId\": \"wqs000002\", \"freebaseKey\": \"oregon_ducks\", \"freebaseKeyCands\": [\"oregon_ducks_football\", \"oregon_ducks\", \"oregon\", \"oregon_ducks_mens_basketball\", \"oregon_ducks_baseball\"], \"dep_path\": []}\\n', '{\"answers\": [\"Tony Warren\"], \"entities\": [[\"ken barlow\", \"PERSON\"], [\"ken barlow in coronation street\", \"NP\"], [\"ken barlow\", \"NP\"], [\"coronation street\", \"NP\"]], \"qText\": \"who plays ken barlow in coronation street?\", \"qId\": \"wqs000003\", \"freebaseKey\": \"ken_barlow\", \"freebaseKeyCands\": [\"ken_barlow\", \"coronation_street\"], \"dep_path\": []}\\n', '{\"answers\": [\"Yaotsu\"], \"entities\": [[\"sugihara\", \"PERSON\"], [\"mr. sugihara\", \"NP\"]], \"qText\": \"what happened after mr. sugihara died?\", \"qId\": \"wqs000004\", \"freebaseKey\": \"chiune_sugihara\", \"freebaseKeyCands\": [\"chiune_sugihara\", \"sugize\", \"japanese_people\"], \"dep_path\": []}\\n', '{\"answers\": [\"wolfgang amadeus mozart used story by pierre beaumarchais\"], \"entities\": [[\"mozart\", \"PERSON\"], [\"four\", \"NUMBER\"], [\"mozart\", \"NP\"], [\"his four horn concertos\", \"NP\"]], \"qText\": \"who did mozart write his four horn concertos for?\", \"qId\": \"wqs000005\", \"freebaseKey\": \"wolfgang_amadeus_mozart\", \"freebaseKeyCands\": [\"amadeus_mozart_wolfgang\", \"mozart\", \"wolfgang_amadeus_mozart\"], \"dep_path\": []}\\n', '{\"answers\": [\"Mobile\"], \"entities\": [[\"jamarcus russell\", \"PERSON\"], [\"jamarcus russell\", \"NP\"]], \"qText\": \"where is jamarcus russell from?\", \"qId\": \"wqs000006\", \"freebaseKey\": \"jamarcus_russell\", \"freebaseKeyCands\": [\"jamarcus_russell\", \"marcus_randall\"], \"dep_path\": []}\\n', '{\"answers\": [\"Diamond\"], \"entities\": [[\"george washington carver\", \"PERSON\"], [\"george washington carver\", \"NP\"]], \"qText\": \"where was george washington carver from?\", \"qId\": \"wqs000007\", \"freebaseKey\": \"george_washington_carver\", \"freebaseKeyCands\": [\"george_washington_carver\", \"ss_george_washington_carver\"], \"dep_path\": []}\\n', '{\"answers\": [\"Lightning rod\", \"Franklin stove\", \"Bifocals\", \"Glass harmonica\"], \"entities\": [[\"ben franklin\", \"PERSON\"], [\"ben franklin\", \"NP\"]], \"qText\": \"what else did ben franklin invent?\", \"qId\": \"wqs000008\", \"freebaseKey\": \"benjamin_franklin\", \"freebaseKeyCands\": [\"benjamin_franklin\", \"ben_franklin_stores\"], \"dep_path\": []}\\n', '{\"answers\": [\"Pat Nixon\"], \"entities\": [[\"richard nixon\", \"PERSON\"], [\"richard nixon\", \"NP\"]], \"qText\": \"who was richard nixon married to?\", \"qId\": \"wqs000009\", \"freebaseKey\": \"richard_nixon\", \"freebaseKeyCands\": [\"richard_nixon\", \"richard_nixon_mask\"], \"dep_path\": []}\\n', '{\"answers\": [\"Belgium\"], \"entities\": [[\"germany\", \"LOCATION\"], [\"ww1\", \"NUMBER\"], [\"first\", \"ORDINAL\"], [\"germany\", \"NP\"], [\"ww1\", \"NP\"]], \"qText\": \"what country did germany invade first in ww1?\", \"qId\": \"wqs000010\", \"freebaseKey\": \"germany\", \"freebaseKeyCands\": [\"germany\", \"nazi_germany\", \"germany_national_football_team\", \"world_war_i\", \"german_democratic_republic\"], \"dep_path\": []}\\n', '{\"answers\": [\"Micoud Quarter\", \"Choiseul Quarter\", \"Praslin Quarter\", \"Vieux Fort Quarter\", \"Castries Quarter\", \"Laborie Quarter\", \"Gros Islet Quarter\", \"Anse la Raye Quarter\", \"Dauphin Quarter\", \"Dennery Quarter\"], \"entities\": [[\"st lucia\", \"LOCATION\"], [\"the best sandals resort\", \"NP\"], [\"st lucia\", \"NP\"]], \"qText\": \"what is the best sandals resort in st lucia?\", \"qId\": \"wqs000011\", \"freebaseKey\": \"saint_lucia\", \"freebaseKeyCands\": [\"saint_lucia\", \"st_lucia_queensland\", \"saint_lucy\"], \"dep_path\": []}\\n', '{\"answers\": [\"John Kasich\"], \"entities\": [[\"2011\", \"DATE\"], [\"ohio\", \"LOCATION\"], [\"governor of ohio 2011\", \"NP\"], [\"governor\", \"NP\"], [\"ohio 2011\", \"NP\"]], \"qText\": \"who is governor of ohio 2011?\", \"qId\": \"wqs000012\", \"freebaseKey\": \"ohio\", \"freebaseKeyCands\": [\"ohio\", \"ohio_river\"], \"dep_path\": []}\\n', '{\"answers\": [\"Lyndon B. Johnson\"], \"entities\": [[\"kennedy\", \"PERSON\"], [\"vice president\", \"NP\"], [\"kennedy\", \"NP\"]], \"qText\": \"who was vice president after kennedy died?\", \"qId\": \"wqs000013\", \"freebaseKey\": \"john_f_kennedy\", \"freebaseKeyCands\": [\"vice_president\", \"president\", \"john_f_kennedy\", \"bill_clinton\"], \"dep_path\": []}\\n', '{\"answers\": [\"Japan\", \"Okuma\"], \"entities\": [[\"fukushima daiichi\", \"LOCATION\"], [\"the fukushima daiichi nuclear plant\", \"NP\"]], \"qText\": \"where is the fukushima daiichi nuclear plant located?\", \"qId\": \"wqs000014\", \"freebaseKey\": \"fukushima_i_nuclear_power_plant\", \"freebaseKeyCands\": [\"fukushima_i_nuclear_power_plant\", \"nuclear_power_plant\"], \"dep_path\": []}\\n']\n"
     ]
    }
   ],
   "source": [
    "print(open(\"/home/ubuntu/BAMQA/data/WebQ/raw_test.json\").readlines(4990))"
   ]
  },
  {
   "cell_type": "code",
   "execution_count": null,
   "metadata": {},
   "outputs": [],
   "source": [
    "test_data = json.loads(\"/home/ubuntu/BAMQA/data/WebQ/train_vec.json\")"
   ]
  }
 ],
 "metadata": {
  "kernelspec": {
   "display_name": "Python 3",
   "language": "python",
   "name": "python3"
  },
  "language_info": {
   "codemirror_mode": {
    "name": "ipython",
    "version": 3
   },
   "file_extension": ".py",
   "mimetype": "text/x-python",
   "name": "python",
   "nbconvert_exporter": "python",
   "pygments_lexer": "ipython3",
   "version": "3.6.8"
  }
 },
 "nbformat": 4,
 "nbformat_minor": 2
}
