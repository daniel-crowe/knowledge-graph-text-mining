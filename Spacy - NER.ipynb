{
 "cells": [
  {
   "cell_type": "code",
   "execution_count": 1,
   "metadata": {},
   "outputs": [],
   "source": [
    "# # Download \n",
    "\n",
    "# pip install -U spacy\n",
    "\n",
    "# !python -m spacy download en"
   ]
  },
  {
   "cell_type": "code",
   "execution_count": 3,
   "metadata": {},
   "outputs": [],
   "source": [
    "dummy_train_data = [\n",
    "    (\"Uber blew through $1 million a week\", [(0, 4, 'ORG')]),\n",
    "    (\"Android Pay expands to Canada\", [(0, 11, 'PRODUCT'), (23, 30, 'GPE')]),\n",
    "    (\"Spotify steps up Asia expansion\", [(0, 8, \"ORG\"), (17, 21, \"LOC\")]),\n",
    "    (\"Google Maps launches location sharing\", [(0, 11, \"PRODUCT\")]),\n",
    "    (\"Google rebrands its business apps\", [(0, 6, \"ORG\")]),\n",
    "    (\"look what i found on google! 😂\", [(21, 27, \"PRODUCT\")])]"
   ]
  },
  {
   "cell_type": "code",
   "execution_count": 4,
   "metadata": {},
   "outputs": [],
   "source": [
    "import json"
   ]
  },
  {
   "cell_type": "code",
   "execution_count": 15,
   "metadata": {},
   "outputs": [],
   "source": [
    "filename = \"home/ubuntu/Grakn/Spacy Play/pubmed_result_abstract-annotated.json\""
   ]
  },
  {
   "cell_type": "code",
   "execution_count": 5,
   "metadata": {},
   "outputs": [
    {
     "name": "stdout",
     "output_type": "stream",
     "text": [
      "Enter your train data filename : /home/ubuntu/Grakn/Spacy Play/pubmed_result_abstract-annotated.json\n",
      "/home/ubuntu/Grakn/Spacy Play/pubmed_result_abstract-annotated.json\n"
     ]
    }
   ],
   "source": [
    "# filename = input(\"Enter your train data filename : \")\n",
    "# print(filename)"
   ]
  },
  {
   "cell_type": "code",
   "execution_count": 6,
   "metadata": {},
   "outputs": [],
   "source": [
    "with open(filename) as train_data:\n",
    "\ttrain = json.load(train_data)"
   ]
  },
  {
   "cell_type": "code",
   "execution_count": null,
   "metadata": {},
   "outputs": [],
   "source": [
    "train"
   ]
  },
  {
   "cell_type": "code",
   "execution_count": 17,
   "metadata": {},
   "outputs": [
    {
     "data": {
      "text/plain": [
       "dict_keys(['id', 'text', 'annotations', 'meta'])"
      ]
     },
     "execution_count": 17,
     "metadata": {},
     "output_type": "execute_result"
    }
   ],
   "source": [
    "train.keys()"
   ]
  },
  {
   "cell_type": "code",
   "execution_count": 20,
   "metadata": {},
   "outputs": [
    {
     "name": "stdout",
     "output_type": "stream",
     "text": [
      "1\n",
      "3\n",
      "4\n",
      "3\n",
      "5\n",
      "1\n",
      "6\n",
      "3\n",
      "3\n",
      "3\n",
      "3\n",
      "6\n",
      "5\n",
      "1\n",
      "3\n",
      "1\n"
     ]
    }
   ],
   "source": [
    "# CHecking label of annotations\n",
    "for i in train['annotations']:\n",
    "    print(i['label'])"
   ]
  },
  {
   "cell_type": "code",
   "execution_count": 23,
   "metadata": {},
   "outputs": [
    {
     "data": {
      "text/plain": [
       "1"
      ]
     },
     "execution_count": 23,
     "metadata": {},
     "output_type": "execute_result"
    }
   ],
   "source": [
    "train['annotations'][0]['label']"
   ]
  },
  {
   "cell_type": "code",
   "execution_count": 8,
   "metadata": {},
   "outputs": [
    {
     "data": {
      "text/plain": [
       "[('Uber blew through $1 million a week', [(0, 4, 'ORG')]),\n",
       " ('Android Pay expands to Canada', [(0, 11, 'PRODUCT'), (23, 30, 'GPE')]),\n",
       " ('Spotify steps up Asia expansion', [(0, 8, 'ORG'), (17, 21, 'LOC')]),\n",
       " ('Google Maps launches location sharing', [(0, 11, 'PRODUCT')]),\n",
       " ('Google rebrands its business apps', [(0, 6, 'ORG')]),\n",
       " ('look what i found on google! 😂', [(21, 27, 'PRODUCT')])]"
      ]
     },
     "execution_count": 8,
     "metadata": {},
     "output_type": "execute_result"
    }
   ],
   "source": [
    "dummy_train_data"
   ]
  },
  {
   "cell_type": "code",
   "execution_count": 12,
   "metadata": {},
   "outputs": [
    {
     "data": {
      "text/plain": [
       "dict"
      ]
     },
     "execution_count": 12,
     "metadata": {},
     "output_type": "execute_result"
    }
   ],
   "source": [
    "type(train)"
   ]
  },
  {
   "cell_type": "code",
   "execution_count": 13,
   "metadata": {},
   "outputs": [
    {
     "name": "stdout",
     "output_type": "stream",
     "text": [
      "('id', 1)\n",
      "('text', 'The BRAF inhibitor dabrafenib (Tafinlar(Â®)) and the MEK inhibitor trametinib (Mekinist(Â®)) are indicated, as monotherapy or in combination with each other, for the treatment of patients with unresectable or metastatic melanoma with a BRAF (V600) mutation. This article reviews the therapeutic efficacy and tolerability of combination treatment with dabrafenib and trametinib in this indication and summarizes relevant pharmacological data. Dabrafenib plus trametinib significantly prolonged progression-free survival (PFS) and overall survival (OS), improved objective response rates (ORRs) and preserved health-related quality of life (HR-QOL) to a greater extent than dabrafenib (in the double-blind COMBI-d study) and vemurafenib (in the open-label COMBI-v study) in two large, randomized, phase III studies in treatment-naÃ¯ve patients with unresectable or metastatic melanoma with BRAF (V600E/K) mutation. Limited treatment benefit with the combination was also seen in patients who had progressed on prior BRAF inhibitor therapy, as indicated by ORRs of â‰¤ 15Â\\xa0% and stable disease in â‰¤ 50Â\\xa0% of patients in small phase I and II studies. Combination therapy did not increase overall toxicity relative to dabrafenib or vemurafenib monotherapy, with most adverse events (AEs) mild or moderate in severity and generally manageable. Fewer skin-related AEs (e.g. cutaneous malignancies, hyperkeratinosis and hand-foot syndrome) were reported with combination therapy than with dabrafenib or vemurafenib, probably because of reduced paradoxical activation of the MAPK pathway. Thus, dabrafenib plus trametinib provides an important treatment option for patients with BRAF (V600) mutation-positive unresectable or metastatic melanoma.')\n",
      "('annotations', [{'label': 1, 'start_offset': 4, 'end_offset': 8, 'user': 1}, {'label': 3, 'start_offset': 19, 'end_offset': 29, 'user': 1}, {'label': 4, 'start_offset': 53, 'end_offset': 56, 'user': 1}, {'label': 3, 'start_offset': 67, 'end_offset': 78, 'user': 1}, {'label': 5, 'start_offset': 220, 'end_offset': 229, 'user': 1}, {'label': 1, 'start_offset': 236, 'end_offset': 241, 'user': 1}, {'label': 6, 'start_offset': 242, 'end_offset': 246, 'user': 1}, {'label': 3, 'start_offset': 351, 'end_offset': 362, 'user': 1}, {'label': 3, 'start_offset': 366, 'end_offset': 377, 'user': 1}, {'label': 3, 'start_offset': 442, 'end_offset': 452, 'user': 1}, {'label': 3, 'start_offset': 458, 'end_offset': 469, 'user': 1}, {'label': 6, 'start_offset': 894, 'end_offset': 901, 'user': 1}, {'label': 5, 'start_offset': 874, 'end_offset': 883, 'user': 1}, {'label': 1, 'start_offset': 888, 'end_offset': 893, 'user': 1}, {'label': 3, 'start_offset': 1215, 'end_offset': 1226, 'user': 1}, {'label': 1, 'start_offset': 1014, 'end_offset': 1019, 'user': 1}])\n",
      "('meta', {})\n"
     ]
    }
   ],
   "source": [
    "TRAIN_DATA = []\n",
    "text = train['text']\n",
    "\n",
    "\n",
    "    "
   ]
  },
  {
   "cell_type": "code",
   "execution_count": null,
   "metadata": {},
   "outputs": [],
   "source": [
    "TRAIN_DATA = []\n",
    "for data in train:\n",
    "\tents = [tuple(entity) for entity in data['entities']]\n",
    "\tTRAIN_DATA.append((data['content'],{'entities':ents}))\n",
    "\n",
    "\n",
    "with open('{}'.format(filename.replace('json','txt')),'w') as write:\n",
    "\twrite.write(str(TRAIN_DATA))\n",
    "\n",
    "print('-------------Copy and Paste to spacy training-------------')\n",
    "print()\n",
    "print()\n",
    "print()\n",
    "print(TRAIN_DATA)\n",
    "print()\n",
    "print()\n",
    "print()\n",
    "print('--------------------------End-----------------------------')"
   ]
  },
  {
   "cell_type": "code",
   "execution_count": null,
   "metadata": {},
   "outputs": [],
   "source": []
  },
  {
   "cell_type": "code",
   "execution_count": null,
   "metadata": {},
   "outputs": [],
   "source": []
  },
  {
   "cell_type": "code",
   "execution_count": null,
   "metadata": {},
   "outputs": [],
   "source": []
  }
 ],
 "metadata": {
  "kernelspec": {
   "display_name": "Python 3",
   "language": "python",
   "name": "python3"
  },
  "language_info": {
   "codemirror_mode": {
    "name": "ipython",
    "version": 3
   },
   "file_extension": ".py",
   "mimetype": "text/x-python",
   "name": "python",
   "nbconvert_exporter": "python",
   "pygments_lexer": "ipython3",
   "version": "3.7.3"
  }
 },
 "nbformat": 4,
 "nbformat_minor": 2
}
