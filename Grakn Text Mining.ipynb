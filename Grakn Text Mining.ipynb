{
 "cells": [
  {
   "cell_type": "code",
   "execution_count": 2,
   "metadata": {},
   "outputs": [],
   "source": [
    "from lxml import etree"
   ]
  },
  {
   "cell_type": "code",
   "execution_count": 3,
   "metadata": {},
   "outputs": [],
   "source": [
    "doc = etree.parse('pubmed_result.xml')"
   ]
  },
  {
   "cell_type": "code",
   "execution_count": 4,
   "metadata": {},
   "outputs": [],
   "source": [
    "# import xml.etree.ElementTree as ET\n",
    "\n",
    "# doc = ET.parse('pubmed_result.xml')\n",
    "\n",
    "# # Using minidom\n",
    "\n",
    "# from xml.dom import minidom\n",
    "\n",
    "# doc = minidom.parse('pubmed_result.xml')"
   ]
  },
  {
   "cell_type": "code",
   "execution_count": 5,
   "metadata": {},
   "outputs": [],
   "source": [
    "root = doc.getroot()"
   ]
  },
  {
   "cell_type": "code",
   "execution_count": 6,
   "metadata": {},
   "outputs": [
    {
     "data": {
      "text/plain": [
       "'PubmedArticleSet'"
      ]
     },
     "execution_count": 6,
     "metadata": {},
     "output_type": "execute_result"
    }
   ],
   "source": [
    "# Tag name of the root node\n",
    "root.tag"
   ]
  },
  {
   "cell_type": "code",
   "execution_count": 7,
   "metadata": {},
   "outputs": [
    {
     "name": "stdout",
     "output_type": "stream",
     "text": [
      "27246822\n"
     ]
    }
   ],
   "source": [
    "# Fetching PMID value \n",
    "for child in root.iter('PMID'):\n",
    "    print( child.text)\n",
    "    pmid = child.text"
   ]
  },
  {
   "cell_type": "code",
   "execution_count": 8,
   "metadata": {},
   "outputs": [
    {
     "name": "stdout",
     "output_type": "stream",
     "text": [
      "Dabrafenib plus Trametinib: a Review in Advanced Melanoma with a BRAF (V600) Mutation.\n"
     ]
    }
   ],
   "source": [
    "# Fetching Article Title\n",
    "for child in root.iter('ArticleTitle'):\n",
    "    print( child.text)\n",
    "    title = child.text"
   ]
  },
  {
   "cell_type": "code",
   "execution_count": 9,
   "metadata": {},
   "outputs": [
    {
     "name": "stdout",
     "output_type": "stream",
     "text": [
      "The BRAF inhibitor dabrafenib (Tafinlar(®)) and the MEK inhibitor trametinib (Mekinist(®)) are indicated, as monotherapy or in combination with each other, for the treatment of patients with unresectable or metastatic melanoma with a BRAF (V600) mutation. This article reviews the therapeutic efficacy and tolerability of combination treatment with dabrafenib and trametinib in this indication and summarizes relevant pharmacological data. Dabrafenib plus trametinib significantly prolonged progression-free survival (PFS) and overall survival (OS), improved objective response rates (ORRs) and preserved health-related quality of life (HR-QOL) to a greater extent than dabrafenib (in the double-blind COMBI-d study) and vemurafenib (in the open-label COMBI-v study) in two large, randomized, phase III studies in treatment-naïve patients with unresectable or metastatic melanoma with BRAF (V600E/K) mutation. Limited treatment benefit with the combination was also seen in patients who had progressed on prior BRAF inhibitor therapy, as indicated by ORRs of ≤ 15 % and stable disease in ≤ 50 % of patients in small phase I and II studies. Combination therapy did not increase overall toxicity relative to dabrafenib or vemurafenib monotherapy, with most adverse events (AEs) mild or moderate in severity and generally manageable. Fewer skin-related AEs (e.g. cutaneous malignancies, hyperkeratinosis and hand-foot syndrome) were reported with combination therapy than with dabrafenib or vemurafenib, probably because of reduced paradoxical activation of the MAPK pathway. Thus, dabrafenib plus trametinib provides an important treatment option for patients with BRAF (V600) mutation-positive unresectable or metastatic melanoma.\n"
     ]
    }
   ],
   "source": [
    "# Fetching Abstract Text\n",
    "for child in root.iter('AbstractText'):\n",
    "    print( child.text)\n",
    "    annotatedAbstract = child.text"
   ]
  },
  {
   "cell_type": "code",
   "execution_count": 10,
   "metadata": {},
   "outputs": [],
   "source": [
    "annotatedAbstract = annotatedAbstract.encode(encoding='UTF-8',errors='strict')"
   ]
  },
  {
   "cell_type": "markdown",
   "metadata": {},
   "source": [
    "## Installing grakn python client "
   ]
  },
  {
   "cell_type": "code",
   "execution_count": 11,
   "metadata": {},
   "outputs": [],
   "source": [
    "# pip install grakn-client"
   ]
  },
  {
   "cell_type": "code",
   "execution_count": 12,
   "metadata": {},
   "outputs": [],
   "source": [
    "from grakn.client import GraknClient"
   ]
  },
  {
   "cell_type": "markdown",
   "metadata": {},
   "source": [
    "### Writing the data inot the keyspace pubmed "
   ]
  },
  {
   "cell_type": "code",
   "execution_count": 127,
   "metadata": {},
   "outputs": [
    {
     "name": "stdout",
     "output_type": "stream",
     "text": [
      "Inserted pmid into the pubmed keyspace with ID: V40964136\n"
     ]
    }
   ],
   "source": [
    "# Inserting \n",
    "\n",
    "## Connecting and creating a client\n",
    "with GraknClient(uri=\"localhost:48555\") as client:\n",
    "    \n",
    "    ## Creating a session\n",
    "    with client.session(keyspace=\"pubmed\") as session:\n",
    "        ## creating a write transaction\n",
    "        with session.transaction().write() as write_transaction:\n",
    "            \n",
    "            ## write transaction is open\n",
    "            insert_iterator = write_transaction.query('insert $x isa pubmed-article, has pmid \"{}\",has title \"{}\" ,has annotated-abstract \"{}\" ;'.format(pmid,title,annotatedAbstract))           \n",
    "    \n",
    "            insert_list = insert_iterator.collect_concepts()\n",
    "            print(\"Inserted pmid into the pubmed keyspace with ID: {0}\".format(insert_list[0].id))\n",
    "             \n",
    "                     \n",
    "            ## write transaction must always be committed (closed)\n",
    "            write_transaction.commit()"
   ]
  },
  {
   "cell_type": "markdown",
   "metadata": {},
   "source": [
    "# Playing with GRAKN"
   ]
  },
  {
   "cell_type": "code",
   "execution_count": 13,
   "metadata": {},
   "outputs": [
    {
     "name": "stdout",
     "output_type": "stream",
     "text": [
      "V4168 False\n"
     ]
    }
   ],
   "source": [
    "# Deleting the test doc\n",
    "\n",
    "with GraknClient(uri='localhost:48555') as client:\n",
    "    with client.session(keyspace=\"pubmed\") as session:\n",
    "        # creating a query transaction\n",
    "        with session.transaction().read() as read_transaction:\n",
    "            \n",
    "            read_iterator = read_transaction.query('match $p isa pubmed-article, has pmid \"123\" ;get;')\n",
    "            read_list = read_iterator.collect_concepts()\n",
    "            for q in read_list:\n",
    "                print(q.id, q.is_type())\n",
    "        \n",
    "        \n",
    "        #Deleting \n",
    "        \n",
    "        #del_query = write_transaction.query()"
   ]
  },
  {
   "cell_type": "code",
   "execution_count": 26,
   "metadata": {
    "collapsed": true
   },
   "outputs": [
    {
     "name": "stdout",
     "output_type": "stream",
     "text": [
      "<grakn.service.Session.util.ResponseReader.ResponseIterator object at 0x7f4e346923c8>\n"
     ]
    },
    {
     "ename": "NameError",
     "evalue": "name 'query_list' is not defined",
     "output_type": "error",
     "traceback": [
      "\u001b[0;31m---------------------------------------------------------------------------\u001b[0m",
      "\u001b[0;31mNameError\u001b[0m                                 Traceback (most recent call last)",
      "\u001b[0;32m<ipython-input-26-11be93aa6bc4>\u001b[0m in \u001b[0;36m<module>\u001b[0;34m\u001b[0m\n\u001b[1;32m      9\u001b[0m \u001b[0;31m#query_list = query_iterator.collect_concepts()\u001b[0m\u001b[0;34m\u001b[0m\u001b[0;34m\u001b[0m\u001b[0;34m\u001b[0m\u001b[0m\n\u001b[1;32m     10\u001b[0m \u001b[0mprint\u001b[0m\u001b[0;34m(\u001b[0m\u001b[0mquery_iterator\u001b[0m\u001b[0;34m)\u001b[0m\u001b[0;34m\u001b[0m\u001b[0;34m\u001b[0m\u001b[0m\n\u001b[0;32m---> 11\u001b[0;31m \u001b[0;32mfor\u001b[0m \u001b[0mq\u001b[0m \u001b[0;32min\u001b[0m \u001b[0mquery_list\u001b[0m\u001b[0;34m:\u001b[0m\u001b[0;34m\u001b[0m\u001b[0;34m\u001b[0m\u001b[0m\n\u001b[0m\u001b[1;32m     12\u001b[0m     \u001b[0mprint\u001b[0m\u001b[0;34m(\u001b[0m\u001b[0mq\u001b[0m\u001b[0;34m.\u001b[0m\u001b[0mid\u001b[0m\u001b[0;34m,\u001b[0m \u001b[0mq\u001b[0m\u001b[0;34m.\u001b[0m\u001b[0mis_type\u001b[0m\u001b[0;34m(\u001b[0m\u001b[0;34m)\u001b[0m\u001b[0;34m)\u001b[0m\u001b[0;34m\u001b[0m\u001b[0;34m\u001b[0m\u001b[0m\n\u001b[1;32m     13\u001b[0m \u001b[0;34m\u001b[0m\u001b[0m\n",
      "\u001b[0;31mNameError\u001b[0m: name 'query_list' is not defined"
     ]
    }
   ],
   "source": [
    "# Transaction query on doc\n",
    "\n",
    "client = GraknClient(uri='localhost:48555')\n",
    "session = client.session(keyspace=\"pubmed\")\n",
    "\n",
    "# creating a query transaction\n",
    "query_transaction = session.transaction() \n",
    "query_iterator = query_transaction.read().query('match $p isa pubmed-article, has pmid \"123\" ;get;count;')#, infer= True)\n",
    "#query_list = query_iterator.collect_concepts()\n",
    "print(query_iterator)\n",
    "for q in query_list:\n",
    "    print(q.id, q.is_type())\n",
    "    \n",
    "query_transaction.read().close()\n",
    "session.close()\n",
    "client.close()\n",
    "                \n",
    "             "
   ]
  },
  {
   "cell_type": "code",
   "execution_count": 1,
   "metadata": {},
   "outputs": [],
   "source": [
    "from grakn.client import GraknClient "
   ]
  },
  {
   "cell_type": "code",
   "execution_count": 3,
   "metadata": {},
   "outputs": [
    {
     "data": {
      "text/plain": [
       "<grakn.service.Session.util.ResponseReader.ResponseIterator at 0x7f7bf4fc0b38>"
      ]
     },
     "execution_count": 3,
     "metadata": {},
     "output_type": "execute_result"
    }
   ],
   "source": [
    "# Quering using Lazy execution\n",
    "\n",
    "client = GraknClient(uri='localhost:48555')\n",
    "session = client.session(keyspace=\"pubmed\")\n",
    "transaction = session.transaction().read()\n",
    "transaction.query(query = 'match $p isa pubmed-article, has pmid \"123\" ;get;')"
   ]
  },
  {
   "cell_type": "markdown",
   "metadata": {},
   "source": [
    "# Text Mining "
   ]
  },
  {
   "cell_type": "code",
   "execution_count": 1,
   "metadata": {},
   "outputs": [],
   "source": [
    "from grakn.client import GraknClient "
   ]
  },
  {
   "cell_type": "code",
   "execution_count": 11,
   "metadata": {},
   "outputs": [
    {
     "name": "stdout",
     "output_type": "stream",
     "text": [
      "<grakn.service.Session.Concept.Concept.Attribute object at 0x7f7bf4376198> V4200 <bound method Attribute.value of <grakn.service.Session.Concept.Concept.Attribute object at 0x7f7bf4376198>>\n",
      "<grakn.service.Session.Concept.Concept.Attribute object at 0x7f7bf4383400> V40968232 <bound method Attribute.value of <grakn.service.Session.Concept.Concept.Attribute object at 0x7f7bf4383400>>\n"
     ]
    }
   ],
   "source": [
    "# Reading data form Grakn for text mining\n",
    "client= GraknClient(uri = 'localhost:48555')\n",
    "session = client.session(keyspace= 'pubmed')\n",
    "transaction = session.transaction().read()\n",
    "query_iterator = transaction.query('match $a isa annotated-abstract;get;')\n",
    "#(query='match $p isa pubmed-article;get;')\n",
    "\n",
    "\n",
    "\n",
    "\n",
    "\n",
    "query_concepts = query_iterator.collect_concepts()\n",
    "\n",
    "for q in query_concepts:\n",
    "    print(q,q.id,q.value)\n",
    "\n",
    "\n",
    "\n",
    "# client = GraknClient(uri='localhost:48555')\n",
    "# session = client.session(keyspace=\"pubmed\")\n",
    "# transaction = session.transaction().read()#.write()\n",
    "# transaction.query(query='match $p isa pubmed-article, has pmid \"123\" ;get;')"
   ]
  }
 ],
 "metadata": {
  "kernelspec": {
   "display_name": "Python 3",
   "language": "python",
   "name": "python3"
  },
  "language_info": {
   "codemirror_mode": {
    "name": "ipython",
    "version": 3
   },
   "file_extension": ".py",
   "mimetype": "text/x-python",
   "name": "python",
   "nbconvert_exporter": "python",
   "pygments_lexer": "ipython3",
   "version": "3.6.8"
  }
 },
 "nbformat": 4,
 "nbformat_minor": 2
}
